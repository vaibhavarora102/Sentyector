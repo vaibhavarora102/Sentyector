{
 "cells": [
  {
   "cell_type": "code",
   "execution_count": 1,
   "metadata": {},
   "outputs": [],
   "source": [
    "import pandas as pd\n",
    "import numpy as np\n",
    "from sklearn.feature_extraction.text import CountVectorizer\n",
    "from sklearn.metrics import classification_report, accuracy_score\n",
    "from sklearn.naive_bayes import MultinomialNB, BernoulliNB\n",
    "from string import digits"
   ]
  },
  {
   "cell_type": "code",
   "execution_count": 2,
   "metadata": {},
   "outputs": [],
   "source": [
    "def remove_digits(s: str) -> str:\n",
    "    remove_digits = str.maketrans('', '', digits)\n",
    "    res = s.translate(remove_digits)\n",
    "    return res"
   ]
  },
  {
   "cell_type": "code",
   "execution_count": 3,
   "metadata": {},
   "outputs": [],
   "source": [
    "train = pd.read_csv('data/train.csv')\n",
    "valid = pd.read_csv('data/valid.csv')"
   ]
  },
  {
   "cell_type": "code",
   "execution_count": 4,
   "metadata": {},
   "outputs": [],
   "source": [
    "train['quotes'] = train['quotes'].apply(remove_digits)\n",
    "valid['quotes'] = valid['quotes'].apply(remove_digits)"
   ]
  },
  {
   "cell_type": "code",
   "execution_count": 5,
   "metadata": {},
   "outputs": [
    {
     "data": {
      "text/html": [
       "<div>\n",
       "<style scoped>\n",
       "    .dataframe tbody tr th:only-of-type {\n",
       "        vertical-align: middle;\n",
       "    }\n",
       "\n",
       "    .dataframe tbody tr th {\n",
       "        vertical-align: top;\n",
       "    }\n",
       "\n",
       "    .dataframe thead th {\n",
       "        text-align: right;\n",
       "    }\n",
       "</style>\n",
       "<table border=\"1\" class=\"dataframe\">\n",
       "  <thead>\n",
       "    <tr style=\"text-align: right;\">\n",
       "      <th></th>\n",
       "      <th>Unnamed: 0</th>\n",
       "      <th>Unnamed: 0.1</th>\n",
       "      <th>emotion</th>\n",
       "      <th>quotes</th>\n",
       "    </tr>\n",
       "  </thead>\n",
       "  <tbody>\n",
       "    <tr>\n",
       "      <th>3426</th>\n",
       "      <td>2769</td>\n",
       "      <td>2770</td>\n",
       "      <td>god</td>\n",
       "      <td>Do you really mean to tell me the only reason ...</td>\n",
       "    </tr>\n",
       "    <tr>\n",
       "      <th>3427</th>\n",
       "      <td>3758</td>\n",
       "      <td>3759</td>\n",
       "      <td>books</td>\n",
       "      <td>Books are no more threatened by Kindle than st...</td>\n",
       "    </tr>\n",
       "    <tr>\n",
       "      <th>3428</th>\n",
       "      <td>2631</td>\n",
       "      <td>2632</td>\n",
       "      <td>spirituality</td>\n",
       "      <td>I can almost picture the disciples faces. \"No,...</td>\n",
       "    </tr>\n",
       "    <tr>\n",
       "      <th>3429</th>\n",
       "      <td>3946</td>\n",
       "      <td>3947</td>\n",
       "      <td>books</td>\n",
       "      <td>Books say: She did this because. Life says: Sh...</td>\n",
       "    </tr>\n",
       "    <tr>\n",
       "      <th>3430</th>\n",
       "      <td>4036</td>\n",
       "      <td>4037</td>\n",
       "      <td>knowledge</td>\n",
       "      <td>Always forgive, but never forget, else you wil...</td>\n",
       "    </tr>\n",
       "  </tbody>\n",
       "</table>\n",
       "</div>"
      ],
      "text/plain": [
       "      Unnamed: 0  Unnamed: 0.1       emotion  \\\n",
       "3426        2769          2770           god   \n",
       "3427        3758          3759         books   \n",
       "3428        2631          2632  spirituality   \n",
       "3429        3946          3947         books   \n",
       "3430        4036          4037     knowledge   \n",
       "\n",
       "                                                 quotes  \n",
       "3426  Do you really mean to tell me the only reason ...  \n",
       "3427  Books are no more threatened by Kindle than st...  \n",
       "3428  I can almost picture the disciples faces. \"No,...  \n",
       "3429  Books say: She did this because. Life says: Sh...  \n",
       "3430  Always forgive, but never forget, else you wil...  "
      ]
     },
     "execution_count": 5,
     "metadata": {},
     "output_type": "execute_result"
    }
   ],
   "source": [
    "train.tail()"
   ]
  },
  {
   "cell_type": "code",
   "execution_count": 6,
   "metadata": {},
   "outputs": [],
   "source": [
    "vectorizer = CountVectorizer(stop_words=None, lowercase=True,\n",
    "                             ngram_range=(1, 1), min_df=2, binary=True)\n",
    "\n",
    "train_features = vectorizer.fit_transform(train['quotes'])\n",
    "train_labels = train['emotion']\n",
    "\n",
    "valid_features = vectorizer.transform(valid['quotes'])\n",
    "valid_labels = valid['emotion']"
   ]
  },
  {
   "cell_type": "code",
   "execution_count": 7,
   "metadata": {},
   "outputs": [
    {
     "name": "stdout",
     "output_type": "stream",
     "text": [
      "               precision    recall  f1-score   support\n",
      "\n",
      "        books       0.35      0.83      0.50        30\n",
      "        death       0.38      0.23      0.29        26\n",
      "        faith       0.60      0.27      0.37        45\n",
      "          god       0.36      0.34      0.35        29\n",
      "    happiness       0.46      0.43      0.44        28\n",
      "inspirational       0.16      0.44      0.23        34\n",
      "    knowledge       0.56      0.38      0.45        24\n",
      "         love       0.38      0.08      0.13        38\n",
      " motivational       0.33      0.63      0.44        35\n",
      "     religion       0.20      0.13      0.16        30\n",
      "      romance       0.40      0.34      0.37        35\n",
      "      science       0.47      0.26      0.34        34\n",
      " spirituality       0.54      0.17      0.26        41\n",
      "\n",
      "    micro avg       0.34      0.34      0.34       429\n",
      "    macro avg       0.40      0.35      0.33       429\n",
      " weighted avg       0.40      0.34      0.33       429\n",
      "\n",
      "Accuracy:0.34032634032634035\n"
     ]
    }
   ],
   "source": [
    "model = BernoulliNB(fit_prior=True)\n",
    "model.fit(train_features, train_labels)\n",
    "\n",
    "valid_preds = model.predict(valid_features)\n",
    "print(classification_report(valid_labels, valid_preds))\n",
    "print(f'Accuracy:{accuracy_score(valid_labels, valid_preds)}')"
   ]
  },
  {
   "cell_type": "code",
   "execution_count": 8,
   "metadata": {},
   "outputs": [],
   "source": [
    "vectorizer = CountVectorizer(stop_words=None, lowercase=True,\n",
    "                             ngram_range=(1, 1), min_df=2)\n",
    "\n",
    "train_features = vectorizer.fit_transform(train['quotes'])\n",
    "train_labels = train['emotion']\n",
    "\n",
    "valid_features = vectorizer.transform(valid['quotes'])\n",
    "valid_labels = valid['emotion']"
   ]
  },
  {
   "cell_type": "code",
   "execution_count": 9,
   "metadata": {},
   "outputs": [
    {
     "name": "stdout",
     "output_type": "stream",
     "text": [
      "               precision    recall  f1-score   support\n",
      "\n",
      "        books       0.88      0.73      0.80        30\n",
      "        death       0.32      0.42      0.37        26\n",
      "        faith       0.57      0.36      0.44        45\n",
      "          god       0.30      0.48      0.37        29\n",
      "    happiness       0.45      0.50      0.47        28\n",
      "inspirational       0.30      0.18      0.22        34\n",
      "    knowledge       0.38      0.42      0.40        24\n",
      "         love       0.28      0.21      0.24        38\n",
      " motivational       0.53      0.57      0.55        35\n",
      "     religion       0.23      0.20      0.21        30\n",
      "      romance       0.35      0.49      0.41        35\n",
      "      science       0.31      0.44      0.37        34\n",
      " spirituality       0.45      0.32      0.37        41\n",
      "\n",
      "    micro avg       0.40      0.40      0.40       429\n",
      "    macro avg       0.41      0.41      0.40       429\n",
      " weighted avg       0.42      0.40      0.40       429\n",
      "\n",
      "Accuracy: 0.40093240093240096\n"
     ]
    }
   ],
   "source": [
    "model = MultinomialNB(fit_prior=True)\n",
    "model.fit(train_features, train_labels)\n",
    "\n",
    "valid_preds = model.predict(valid_features)\n",
    "print(classification_report(valid_labels, valid_preds))\n",
    "print(f'Accuracy: {accuracy_score(valid_labels, valid_preds)}')"
   ]
  },
  {
   "cell_type": "code",
   "execution_count": 10,
   "metadata": {},
   "outputs": [],
   "source": [
    "test = pd.read_csv('data/test.csv')"
   ]
  },
  {
   "cell_type": "code",
   "execution_count": 11,
   "metadata": {},
   "outputs": [],
   "source": [
    "test['quotes'] = test['quotes'].apply(remove_digits)"
   ]
  },
  {
   "cell_type": "code",
   "execution_count": 12,
   "metadata": {},
   "outputs": [],
   "source": [
    "test_features = vectorizer.transform(test['quotes'])\n",
    "test_labels = test['emotion']"
   ]
  },
  {
   "cell_type": "code",
   "execution_count": 13,
   "metadata": {},
   "outputs": [
    {
     "name": "stdout",
     "output_type": "stream",
     "text": [
      "               precision    recall  f1-score   support\n",
      "\n",
      "        books       0.77      0.71      0.74        28\n",
      "        death       0.40      0.59      0.47        29\n",
      "        faith       0.57      0.34      0.43        38\n",
      "          god       0.28      0.39      0.32        28\n",
      "    happiness       0.61      0.53      0.56        38\n",
      "inspirational       0.13      0.11      0.12        27\n",
      "    knowledge       0.64      0.56      0.60        41\n",
      "         love       0.29      0.23      0.26        43\n",
      " motivational       0.62      0.48      0.55        31\n",
      "     religion       0.24      0.17      0.20        35\n",
      "      romance       0.20      0.33      0.25        30\n",
      "      science       0.48      0.56      0.51        36\n",
      " spirituality       0.30      0.36      0.33        25\n",
      "\n",
      "    micro avg       0.41      0.41      0.41       429\n",
      "    macro avg       0.42      0.41      0.41       429\n",
      " weighted avg       0.43      0.41      0.41       429\n",
      "\n",
      "Accuracy: 0.4125874125874126\n"
     ]
    }
   ],
   "source": [
    "test_preds = model.predict(test_features)\n",
    "print(classification_report(test_labels, test_preds))\n",
    "print(f'Accuracy: {accuracy_score(test_labels, test_preds)}')"
   ]
  },
  {
   "cell_type": "code",
   "execution_count": 14,
   "metadata": {},
   "outputs": [],
   "source": [
    "data = pd.concat((train, valid), axis=0)\n",
    "vectorizer = CountVectorizer(stop_words=None, lowercase=True,\n",
    "                             ngram_range=(1, 1), min_df=2)\n",
    "\n",
    "features = vectorizer.fit_transform(data['quotes'])\n",
    "labels = data['emotion']\n",
    "\n",
    "test_features = vectorizer.transform(test['quotes'])\n",
    "test_labels = test['emotion']"
   ]
  },
  {
   "cell_type": "code",
   "execution_count": 15,
   "metadata": {},
   "outputs": [
    {
     "name": "stdout",
     "output_type": "stream",
     "text": [
      "               precision    recall  f1-score   support\n",
      "\n",
      "        books       0.85      0.79      0.81        28\n",
      "        death       0.40      0.55      0.46        29\n",
      "        faith       0.69      0.29      0.41        38\n",
      "          god       0.24      0.32      0.27        28\n",
      "    happiness       0.59      0.45      0.51        38\n",
      "inspirational       0.13      0.15      0.14        27\n",
      "    knowledge       0.73      0.46      0.57        41\n",
      "         love       0.29      0.23      0.26        43\n",
      " motivational       0.60      0.48      0.54        31\n",
      "     religion       0.24      0.14      0.18        35\n",
      "      romance       0.20      0.37      0.26        30\n",
      "      science       0.43      0.58      0.49        36\n",
      " spirituality       0.21      0.32      0.25        25\n",
      "\n",
      "    micro avg       0.39      0.39      0.39       429\n",
      "    macro avg       0.43      0.40      0.40       429\n",
      " weighted avg       0.44      0.39      0.40       429\n",
      "\n",
      "Accuracy: 0.3916083916083916\n"
     ]
    }
   ],
   "source": [
    "model = MultinomialNB(fit_prior=True)\n",
    "model.fit(features, labels)\n",
    "\n",
    "test_preds = model.predict(test_features)\n",
    "print(classification_report(test_labels, test_preds))\n",
    "print(f'Accuracy: {accuracy_score(test_labels, test_preds)}')"
   ]
  },
  {
   "cell_type": "code",
   "execution_count": 16,
   "metadata": {},
   "outputs": [],
   "source": [
    "from sklearn.pipeline import Pipeline\n",
    "from sklearn.externals import joblib"
   ]
  },
  {
   "cell_type": "code",
   "execution_count": 17,
   "metadata": {},
   "outputs": [],
   "source": [
    "model = Pipeline([('feature_transformer', vectorizer),\n",
    "                  ('classifier', model)])"
   ]
  },
  {
   "cell_type": "code",
   "execution_count": 18,
   "metadata": {},
   "outputs": [
    {
     "data": {
      "text/plain": [
       "['data/model.pkl']"
      ]
     },
     "execution_count": 18,
     "metadata": {},
     "output_type": "execute_result"
    }
   ],
   "source": [
    "joblib.dump(model, 'data/model.pkl')"
   ]
  }
 ],
 "metadata": {
  "kernelspec": {
   "display_name": "Python 3",
   "language": "python",
   "name": "python3"
  },
  "language_info": {
   "codemirror_mode": {
    "name": "ipython",
    "version": 3
   },
   "file_extension": ".py",
   "mimetype": "text/x-python",
   "name": "python",
   "nbconvert_exporter": "python",
   "pygments_lexer": "ipython3",
   "version": "3.7.9"
  }
 },
 "nbformat": 4,
 "nbformat_minor": 4
}
