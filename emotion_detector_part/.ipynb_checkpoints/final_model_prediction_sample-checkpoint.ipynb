{
 "cells": [
  {
   "cell_type": "code",
   "execution_count": 1,
   "metadata": {},
   "outputs": [],
   "source": [
    "from sklearn.externals import joblib\n",
    "from string import digits"
   ]
  },
  {
   "cell_type": "code",
   "execution_count": 2,
   "metadata": {},
   "outputs": [],
   "source": [
    " model = joblib.load('data/model.pkl')"
   ]
  },
  {
   "cell_type": "code",
   "execution_count": 3,
   "metadata": {},
   "outputs": [],
   "source": [
    "def remove_digits(s: str) -> str:\n",
    "    remove_digits = str.maketrans('', '', digits)\n",
    "    res = s.translate(remove_digits)\n",
    "    return res"
   ]
  },
  {
   "cell_type": "code",
   "execution_count": 4,
   "metadata": {},
   "outputs": [],
   "source": [
    "text= \"You're just too good to be true can't take my eyes off you you'd be like heaven to touch I wanna hold you so much I love you baby\""
   ]
  },
  {
   "cell_type": "code",
   "execution_count": 5,
   "metadata": {},
   "outputs": [],
   "source": [
    "def pred_changer(pred):\n",
    "    if pred ==\"love\" or pred== \"romance\" or pred ==\"happiness\":\n",
    "        pred = \"lovely and joyable\"\n",
    "\n",
    "    elif pred ==\"inspirational\" or pred== \"faith\" or pred ==\"motivational\":\n",
    "        pred = \"inspirational\"\n",
    "\n",
    "    elif pred ==\"religion\" or pred== \"spirituality\" or pred ==\"god\":\n",
    "        pred = \"spritual\"\n",
    "\n",
    "    elif pred ==\"science\" or pred ==\"books\" or pred == \"knowledge\":\n",
    "        pred =\"knowledge or study related\"\n",
    "\n",
    "    else:\n",
    "        pred = \"sorrow\"\n",
    "        \n",
    "    return pred"
   ]
  },
  {
   "cell_type": "code",
   "execution_count": 6,
   "metadata": {},
   "outputs": [],
   "source": [
    "text = remove_digits(text)\n",
    "pred = model.predict([text])\n",
    "pred = pred_changer(pred)\n"
   ]
  },
  {
   "cell_type": "code",
   "execution_count": 7,
   "metadata": {},
   "outputs": [
    {
     "data": {
      "text/plain": [
       "'lovely and joyable'"
      ]
     },
     "execution_count": 7,
     "metadata": {},
     "output_type": "execute_result"
    }
   ],
   "source": [
    "pred"
   ]
  },
  {
   "cell_type": "code",
   "execution_count": null,
   "metadata": {},
   "outputs": [],
   "source": []
  }
 ],
 "metadata": {
  "kernelspec": {
   "display_name": "Python 3",
   "language": "python",
   "name": "python3"
  },
  "language_info": {
   "codemirror_mode": {
    "name": "ipython",
    "version": 3
   },
   "file_extension": ".py",
   "mimetype": "text/x-python",
   "name": "python",
   "nbconvert_exporter": "python",
   "pygments_lexer": "ipython3",
   "version": "3.7.9"
  }
 },
 "nbformat": 4,
 "nbformat_minor": 4
}
